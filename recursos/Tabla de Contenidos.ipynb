{
 "cells": [
  {
   "cell_type": "markdown",
   "metadata": {},
   "source": [
    "# Algoritmos y Estructuras de Datos\n",
    "\n",
    "## Apuntes de Clases\n",
    "## Patricio Poblete\n",
    "\n",
    "<a href=\"01 Introducción.ipynb\">1 Introducción</a>\n",
    "\n",
    "<a href=\"02 Métodos Matemáticos para el Análisis de Algoritmos.ipynb\">2 Métodos Matemáticos para el Análisis de Algoritmos</a>\n",
    "\n",
    "<a href=\"03 Diseño de Algoritmos Eficientes.ipynb\">3 Diseño de Algoritmos Eficientes</a>\n",
    "\n",
    "<a href=\"04 Estructuras de Datos Elementales.ipynb\">4 Estructuras de Datos Elementales</a>\n",
    "\n",
    "<a href=\"05 Pilas, Colas y Colas de Prioridad.ipynb\">5 Pilas, Colas y Colas de Prioridad</a>\n",
    "\n",
    "<a href=\"06 Diccionarios.ipynb\">6 Diccionarios</a>\n",
    "\n",
    "<a href=\"07 Ordenación.ipynb\">7 Ordenación</a>\n",
    "\n",
    "<a href=\"08 Búsqueda en Texto.ipynb\">8 Búsqueda en Texto</a>\n",
    "\n",
    "<a href=\"09 Compresión de Datos.ipynb\">9 Compresión de Datos</a>\n",
    "\n",
    "<a href=\"10 Grafos.ipynb\">10 Grafos</a>\n",
    "\n",
    "Apuntes del curso *CC3001 Algoritmos y Estructuras de Datos* usando el lenguaje Python en formato Jupyter Notebook basados en los antiguos apuntes en Java de Patricio Poblete y Benjamín Bustos"
   ]
  },
  {
   "cell_type": "code",
   "execution_count": null,
   "metadata": {},
   "outputs": [],
   "source": []
  },
  {
   "cell_type": "code",
   "execution_count": null,
   "metadata": {},
   "outputs": [],
   "source": []
  }
 ],
 "metadata": {
  "kernelspec": {
   "display_name": "Python 3",
   "language": "python",
   "name": "python3"
  },
  "language_info": {
   "codemirror_mode": {
    "name": "ipython",
    "version": 3
   },
   "file_extension": ".py",
   "mimetype": "text/x-python",
   "name": "python",
   "nbconvert_exporter": "python",
   "pygments_lexer": "ipython3",
   "version": "3.7.1"
  }
 },
 "nbformat": 4,
 "nbformat_minor": 2
}
